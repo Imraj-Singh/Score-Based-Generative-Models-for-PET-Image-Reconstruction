{
 "cells": [
  {
   "cell_type": "code",
   "execution_count": null,
   "metadata": {},
   "outputs": [],
   "source": [
    "from result_util_3D import get_unique_swept_datafit_strengths, save_sweep_dicts, get_sweep_mean_results\n",
    "import torch\n",
    "\n",
    "unique_swept_datafit_strengths = get_unique_swept_datafit_strengths(base_path=\"/home/user/sirf/coordinators/BSREM/**/volume.pt\")\n",
    "\n",
    "save_sweep_dicts(unique_swept_datafit_strengths)"
   ]
  }
 ],
 "metadata": {
  "kernelspec": {
   "display_name": "pet",
   "language": "python",
   "name": "python3"
  },
  "language_info": {
   "codemirror_mode": {
    "name": "ipython",
    "version": 3
   },
   "file_extension": ".py",
   "mimetype": "text/x-python",
   "name": "python",
   "nbconvert_exporter": "python",
   "pygments_lexer": "ipython3",
   "version": "3.10.11"
  },
  "orig_nbformat": 4
 },
 "nbformat": 4,
 "nbformat_minor": 2
}
